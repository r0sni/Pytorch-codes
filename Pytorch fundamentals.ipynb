{
 "cells": [
  {
   "cell_type": "code",
   "execution_count": 1,
   "id": "91c00d3e",
   "metadata": {},
   "outputs": [
    {
     "name": "stdout",
     "output_type": "stream",
     "text": [
      "2.0.1\n"
     ]
    }
   ],
   "source": [
    "import torch\n",
    "import pandas as pd\n",
    "import numpy as np\n",
    "import matplotlib.pyplot as plt\n",
    "print(torch.__version__)"
   ]
  },
  {
   "cell_type": "markdown",
   "id": "6aea7907",
   "metadata": {},
   "source": [
    "# Tensor creation"
   ]
  },
  {
   "cell_type": "markdown",
   "id": "ea5f57bc",
   "metadata": {},
   "source": [
    "### Scalar"
   ]
  },
  {
   "cell_type": "code",
   "execution_count": 5,
   "id": "4a510265",
   "metadata": {},
   "outputs": [
    {
     "name": "stdout",
     "output_type": "stream",
     "text": [
      "tensor(7)\n",
      "0\n",
      "7\n"
     ]
    }
   ],
   "source": [
    "scaler = torch.tensor(7) \n",
    "print(scaler)\n",
    "print(scaler.ndim) #scaler has no dimension as it is a single number\n",
    "print(scaler.item()) #tensor is returned as python int"
   ]
  },
  {
   "cell_type": "markdown",
   "id": "a60c290a",
   "metadata": {},
   "source": [
    "### Vector"
   ]
  },
  {
   "cell_type": "code",
   "execution_count": 8,
   "id": "ca34c8d3",
   "metadata": {},
   "outputs": [
    {
     "name": "stdout",
     "output_type": "stream",
     "text": [
      "tensor([2, 3])\n",
      "1\n",
      "torch.Size([2])\n"
     ]
    }
   ],
   "source": [
    "vector = torch.tensor([2,3])\n",
    "print(vector)\n",
    "print(vector.ndim)#vector has one dimension\n",
    "print(vector.shape)"
   ]
  },
  {
   "cell_type": "markdown",
   "id": "8902f6d0",
   "metadata": {},
   "source": [
    "### Matrix"
   ]
  },
  {
   "cell_type": "code",
   "execution_count": 24,
   "id": "33578d19",
   "metadata": {},
   "outputs": [
    {
     "name": "stdout",
     "output_type": "stream",
     "text": [
      "tensor([[2, 3],\n",
      "        [4, 9]])\n",
      "2\n",
      "torch.Size([2, 2])\n"
     ]
    }
   ],
   "source": [
    "MATRIX = torch.tensor([[2,3],\n",
    "                       [4,9]])\n",
    "print(MATRIX )\n",
    "print(MATRIX .ndim) #matrix has two dimension\n",
    "print(MATRIX .shape)#In this case, the shape is two rows and two columns"
   ]
  },
  {
   "cell_type": "markdown",
   "id": "e47b32ce",
   "metadata": {},
   "source": [
    "### Tensor"
   ]
  },
  {
   "cell_type": "code",
   "execution_count": 25,
   "id": "445d0b26",
   "metadata": {},
   "outputs": [
    {
     "name": "stdout",
     "output_type": "stream",
     "text": [
      "tensor([[[2, 3, 4],\n",
      "         [3, 4, 2],\n",
      "         [3, 4, 5]]])\n",
      "3\n",
      "torch.Size([1, 3, 3])\n",
      "tensor([3, 4, 2])\n",
      "tensor(5)\n"
     ]
    }
   ],
   "source": [
    "TENSOR = torch.tensor([[[2,3,4], \n",
    "                       [3,4,2], \n",
    "                       [3,4,5]]])\n",
    "print(TENSOR)\n",
    "print(TENSOR.ndim) #tensor has three or more dimension\n",
    "print(TENSOR.shape)#In this case, the shape is three rows and three columns\n",
    "print(TENSOR[0][1])\n",
    "print(TENSOR[0][2][2])"
   ]
  },
  {
   "cell_type": "markdown",
   "id": "be4eff86",
   "metadata": {},
   "source": [
    "0 dimensional tensor is called scalar, 1 dimensional tensor is called vector and 2 dimensional tensor is called matrix."
   ]
  },
  {
   "cell_type": "markdown",
   "id": "490c6a60",
   "metadata": {},
   "source": [
    "### Random tensors\n",
    "Random tensors are important because most often neural network start with random numbers and update them according to the data."
   ]
  },
  {
   "cell_type": "code",
   "execution_count": 31,
   "id": "b5c20011",
   "metadata": {},
   "outputs": [
    {
     "name": "stdout",
     "output_type": "stream",
     "text": [
      "tensor([[[[0.6405]],\n",
      "\n",
      "         [[0.6699]],\n",
      "\n",
      "         [[0.1576]]],\n",
      "\n",
      "\n",
      "        [[[0.2582]],\n",
      "\n",
      "         [[0.6087]],\n",
      "\n",
      "         [[0.8345]]]])\n",
      "4\n"
     ]
    }
   ],
   "source": [
    "RANDOM_TENSOR = torch.rand(2,3,1,1)\n",
    "print(RANDOM_TENSOR)\n",
    "print(RANDOM_TENSOR.ndim)"
   ]
  },
  {
   "cell_type": "code",
   "execution_count": 33,
   "id": "d764ab00",
   "metadata": {},
   "outputs": [
    {
     "name": "stdout",
     "output_type": "stream",
     "text": [
      "tensor([[[[0.7627]],\n",
      "\n",
      "         [[0.7239]],\n",
      "\n",
      "         [[0.1630]]],\n",
      "\n",
      "\n",
      "        [[[0.5641]],\n",
      "\n",
      "         [[0.6683]],\n",
      "\n",
      "         [[0.8716]]]])\n",
      "4\n"
     ]
    }
   ],
   "source": [
    "RANDOM_TENSOR = torch.rand(size = (2,3,1,1))\n",
    "print(RANDOM_TENSOR)\n",
    "print(RANDOM_TENSOR.ndim)"
   ]
  },
  {
   "cell_type": "markdown",
   "id": "cf8bfe0f",
   "metadata": {},
   "source": [
    "### Zeros and ones"
   ]
  },
  {
   "cell_type": "code",
   "execution_count": 35,
   "id": "815c7058",
   "metadata": {},
   "outputs": [
    {
     "name": "stdout",
     "output_type": "stream",
     "text": [
      "tensor([[0., 0., 0., 0.],\n",
      "        [0., 0., 0., 0.],\n",
      "        [0., 0., 0., 0.]])\n",
      "tensor([[1, 2, 3, 4],\n",
      "        [1, 2, 3, 4],\n",
      "        [1, 2, 3, 4]])\n",
      "tensor([[0., 0., 0., 0.],\n",
      "        [0., 0., 0., 0.],\n",
      "        [0., 0., 0., 0.]])\n"
     ]
    }
   ],
   "source": [
    "zeros = torch.zeros(size=(3,4))\n",
    "print(zeros)\n",
    "t1 = torch.tensor([[1,2,3,4],[1,2,3,4],[1,2,3,4]])\n",
    "print(t1)\n",
    "print(zeros*t1)"
   ]
  },
  {
   "cell_type": "code",
   "execution_count": 37,
   "id": "8b5e4db4",
   "metadata": {},
   "outputs": [
    {
     "name": "stdout",
     "output_type": "stream",
     "text": [
      "tensor([[1., 1., 1., 1.],\n",
      "        [1., 1., 1., 1.],\n",
      "        [1., 1., 1., 1.]])\n",
      "torch.float32\n"
     ]
    }
   ],
   "source": [
    "ones = torch.ones(size=(3,4))\n",
    "print(ones)\n",
    "print(ones.dtype)"
   ]
  },
  {
   "cell_type": "markdown",
   "id": "72743568",
   "metadata": {},
   "source": [
    "### Range of tensors"
   ]
  },
  {
   "cell_type": "code",
   "execution_count": 41,
   "id": "79c92c43",
   "metadata": {},
   "outputs": [
    {
     "name": "stdout",
     "output_type": "stream",
     "text": [
      "tensor([ 1,  2,  3,  4,  5,  6,  7,  8,  9, 10])\n"
     ]
    }
   ],
   "source": [
    "t1 = torch.arange(1,11)\n",
    "print(t1)"
   ]
  },
  {
   "cell_type": "code",
   "execution_count": 43,
   "id": "bcacc9e5",
   "metadata": {},
   "outputs": [
    {
     "name": "stdout",
     "output_type": "stream",
     "text": [
      "tensor([ 1,  2,  3,  4,  5,  6,  7,  8,  9, 10])\n"
     ]
    }
   ],
   "source": [
    "t2 = torch.arange(start=1, end=11)\n",
    "print(t2)"
   ]
  },
  {
   "cell_type": "code",
   "execution_count": 47,
   "id": "3055989f",
   "metadata": {},
   "outputs": [
    {
     "name": "stdout",
     "output_type": "stream",
     "text": [
      "tensor([ 1,  3,  5,  7,  9, 11, 13, 15, 17, 19])\n"
     ]
    }
   ],
   "source": [
    "t3 = torch.arange(start=1, end=21, step=2)\n",
    "print(t3)"
   ]
  },
  {
   "cell_type": "markdown",
   "id": "dddc7d30",
   "metadata": {},
   "source": [
    "### Tensors-like"
   ]
  },
  {
   "cell_type": "code",
   "execution_count": 52,
   "id": "b3afe6b6",
   "metadata": {},
   "outputs": [
    {
     "name": "stdout",
     "output_type": "stream",
     "text": [
      "tensor([0, 0, 0, 0, 0, 0, 0, 0, 0, 0])\n",
      "tensor([1, 1, 1, 1, 1, 1, 1, 1, 1, 1])\n"
     ]
    }
   ],
   "source": [
    "t3_zeros = torch.zeros_like(input=t3)\n",
    "print(t3_zeros)\n",
    "t2_ones = torch.ones_like(input=t2)\n",
    "print(t2_ones)"
   ]
  },
  {
   "cell_type": "markdown",
   "id": "5bc45160",
   "metadata": {},
   "source": [
    "### Tensor datatypes"
   ]
  },
  {
   "cell_type": "code",
   "execution_count": 67,
   "id": "1d1310f3",
   "metadata": {},
   "outputs": [
    {
     "name": "stdout",
     "output_type": "stream",
     "text": [
      "torch.float32\n",
      "torch.float16\n",
      "torch.float16\n",
      "torch.int64\n",
      "torch.int32\n",
      "torch.int16\n"
     ]
    }
   ],
   "source": [
    "#float 32 tensor\n",
    "t_float32 = torch.tensor([2.0,6.0,9.1], dtype=None)\n",
    "print(t_float32.dtype)\n",
    "t_float16 = torch.tensor([2.0,6.0,9.1], dtype= torch.float16)\n",
    "print(t_float16.dtype)\n",
    "t_float16 = torch.tensor([2.0,6.0,9.1], dtype= torch.float16)\n",
    "print(t_float16.dtype)\n",
    "t_int64 = torch.tensor([2,6,9])\n",
    "print(t_int64.dtype)\n",
    "t_int32 = torch.tensor([2,6,9], dtype=torch.int32)\n",
    "print(t_int32.dtype)\n",
    "t_int16 = torch.tensor([2,6,9], dtype=torch.int16)\n",
    "print(t_int16.dtype)"
   ]
  },
  {
   "cell_type": "markdown",
   "id": "e82b4f19",
   "metadata": {},
   "source": [
    "### Tensor device"
   ]
  },
  {
   "cell_type": "code",
   "execution_count": 76,
   "id": "62faf620",
   "metadata": {},
   "outputs": [
    {
     "name": "stdout",
     "output_type": "stream",
     "text": [
      "MPS is available\n"
     ]
    }
   ],
   "source": [
    "if torch.backends.mps.is_available():\n",
    "    print(\"MPS is available\")\n",
    "else:\n",
    "    print(\"MPS is not available, using CPU\")"
   ]
  },
  {
   "cell_type": "code",
   "execution_count": 77,
   "id": "cc8b4a3f",
   "metadata": {},
   "outputs": [
    {
     "name": "stdout",
     "output_type": "stream",
     "text": [
      "Tensor is on: cpu\n"
     ]
    }
   ],
   "source": [
    "# Explicitly set a tensor to the CPU\n",
    "device = torch.device(\"cpu\")\n",
    "tensor = torch.tensor([1.0, 2.0, 3.0], device=device)\n",
    "print(\"Tensor is on:\", tensor.device)"
   ]
  },
  {
   "cell_type": "code",
   "execution_count": 78,
   "id": "9d21b232",
   "metadata": {},
   "outputs": [
    {
     "name": "stdout",
     "output_type": "stream",
     "text": [
      "torch.float32\n"
     ]
    }
   ],
   "source": [
    "#Set a tensor on GPU\n",
    "t_float32 = torch.tensor([2.0,6.0,9.1], dtype=torch.float32, device='mps')\n",
    "print(t_float32.dtype)"
   ]
  },
  {
   "cell_type": "markdown",
   "id": "7824e17c",
   "metadata": {},
   "source": [
    "### Tracking gradients on the tensor operation"
   ]
  },
  {
   "cell_type": "code",
   "execution_count": 79,
   "id": "e673a7c7",
   "metadata": {},
   "outputs": [
    {
     "name": "stdout",
     "output_type": "stream",
     "text": [
      "torch.float32\n"
     ]
    }
   ],
   "source": [
    "t_float32 = torch.tensor([2.0,6.0,9.1], dtype=torch.float32, device='mps', requires_grad=False)\n",
    "print(t_float32.dtype)"
   ]
  },
  {
   "cell_type": "markdown",
   "id": "91ac2ea7",
   "metadata": {},
   "source": [
    "### Finding details about a tensor"
   ]
  },
  {
   "cell_type": "code",
   "execution_count": 80,
   "id": "add88912",
   "metadata": {},
   "outputs": [
    {
     "name": "stdout",
     "output_type": "stream",
     "text": [
      "tensor([2.0000, 6.0000, 9.1000], device='mps:0')\n",
      "Datatype of the tesor: torch.float32\n",
      "Shape of the tensor: torch.Size([3])\n",
      "Dimension of the tensor: 1\n",
      "Size of the tensor: <built-in method size of Tensor object at 0x13b2359f0>\n",
      "Device tensor is on: mps:0\n"
     ]
    }
   ],
   "source": [
    "print(t_float32)\n",
    "print(f\"Datatype of the tesor: {t_float32.dtype}\")\n",
    "print(f\"Shape of the tensor: {t_float32.shape}\")\n",
    "print(f\"Dimension of the tensor: {t_float32.ndim}\")\n",
    "print(f\"Size of the tensor: {t_float32.size}\")\n",
    "print(f\"Device tensor is on: {t_float32.device}\")"
   ]
  },
  {
   "cell_type": "markdown",
   "id": "371662f2",
   "metadata": {},
   "source": [
    "# Tensor Operations"
   ]
  },
  {
   "cell_type": "markdown",
   "id": "13253716",
   "metadata": {},
   "source": [
    "### Addition"
   ]
  },
  {
   "cell_type": "code",
   "execution_count": 81,
   "id": "573f45e2",
   "metadata": {},
   "outputs": [
    {
     "name": "stdout",
     "output_type": "stream",
     "text": [
      "tensor([7, 8, 6])\n"
     ]
    }
   ],
   "source": [
    "t1 = torch.tensor([2,3,1])\n",
    "print(t1+5)"
   ]
  },
  {
   "cell_type": "code",
   "execution_count": 82,
   "id": "3f7abc7c",
   "metadata": {},
   "outputs": [
    {
     "name": "stdout",
     "output_type": "stream",
     "text": [
      "tensor([5, 6, 4])\n"
     ]
    }
   ],
   "source": [
    "t2 = torch.tensor([3,3,3])\n",
    "print(t1+t2)"
   ]
  },
  {
   "cell_type": "markdown",
   "id": "a3979854",
   "metadata": {},
   "source": [
    "### Multiplication"
   ]
  },
  {
   "cell_type": "code",
   "execution_count": 83,
   "id": "5043d0ed",
   "metadata": {},
   "outputs": [
    {
     "name": "stdout",
     "output_type": "stream",
     "text": [
      "tensor([10, 15,  5])\n"
     ]
    }
   ],
   "source": [
    "print(t1*5)"
   ]
  },
  {
   "cell_type": "code",
   "execution_count": 84,
   "id": "a6680738",
   "metadata": {},
   "outputs": [
    {
     "name": "stdout",
     "output_type": "stream",
     "text": [
      "tensor([6, 9, 3])\n"
     ]
    }
   ],
   "source": [
    "print(t1*t2)"
   ]
  },
  {
   "cell_type": "code",
   "execution_count": 89,
   "id": "749fde28",
   "metadata": {},
   "outputs": [
    {
     "data": {
      "text/plain": [
       "tensor([6, 9, 3])"
      ]
     },
     "execution_count": 89,
     "metadata": {},
     "output_type": "execute_result"
    }
   ],
   "source": [
    "#in-built functions\n",
    "t1.mul(t2)"
   ]
  },
  {
   "cell_type": "markdown",
   "id": "98bab688",
   "metadata": {},
   "source": [
    "#### Element wise multiplication"
   ]
  },
  {
   "cell_type": "code",
   "execution_count": 100,
   "id": "c59da140",
   "metadata": {},
   "outputs": [
    {
     "name": "stdout",
     "output_type": "stream",
     "text": [
      "tensor([2, 3, 1]) * tensor([2, 3, 1]) equals tensor([4, 9, 1])\n"
     ]
    }
   ],
   "source": [
    "print(t1, '*', t1, 'equals', t1*t1)"
   ]
  },
  {
   "cell_type": "code",
   "execution_count": 102,
   "id": "9eaf0b8a",
   "metadata": {},
   "outputs": [
    {
     "name": "stdout",
     "output_type": "stream",
     "text": [
      "tensor(14)\n",
      "CPU times: user 952 µs, sys: 3.89 ms, total: 4.85 ms\n",
      "Wall time: 9.53 ms\n"
     ]
    }
   ],
   "source": [
    "%%time\n",
    "total = 0\n",
    "for i in range(len(t1)):\n",
    "    total += t1[i]*t1[i]\n",
    "print(total)"
   ]
  },
  {
   "cell_type": "markdown",
   "id": "766c641f",
   "metadata": {},
   "source": [
    "#### Matrix multiplication"
   ]
  },
  {
   "cell_type": "code",
   "execution_count": 106,
   "id": "7cf3fa11",
   "metadata": {},
   "outputs": [
    {
     "name": "stdout",
     "output_type": "stream",
     "text": [
      "tensor(14)\n"
     ]
    }
   ],
   "source": [
    "print(torch.matmul(t1,t1))"
   ]
  },
  {
   "cell_type": "code",
   "execution_count": 108,
   "id": "bf75fd06",
   "metadata": {},
   "outputs": [
    {
     "name": "stdout",
     "output_type": "stream",
     "text": [
      "tensor(14)\n"
     ]
    }
   ],
   "source": [
    "print(t1@t1)"
   ]
  },
  {
   "cell_type": "code",
   "execution_count": 104,
   "id": "23173b40",
   "metadata": {},
   "outputs": [
    {
     "name": "stdout",
     "output_type": "stream",
     "text": [
      "tensor(14)\n",
      "CPU times: user 1.19 ms, sys: 1.69 ms, total: 2.88 ms\n",
      "Wall time: 2.87 ms\n"
     ]
    }
   ],
   "source": [
    "%%time\n",
    "total = torch.matmul(t1,t1)\n",
    "print(total)"
   ]
  },
  {
   "cell_type": "markdown",
   "id": "596da5c0",
   "metadata": {},
   "source": [
    "Matrix multiplication is faster than element wise multiplication"
   ]
  },
  {
   "cell_type": "markdown",
   "id": "b9015c9d",
   "metadata": {},
   "source": [
    "To avoid shape errors, the rules to perform matrix multiplication should be followed.\n",
    "- The inner dimensions must match. The column size of first matrix should be equal to row size of second matrix\n",
    "- The resulting matrix has shape of outer dimension."
   ]
  },
  {
   "cell_type": "code",
   "execution_count": 119,
   "id": "68bcb9b9",
   "metadata": {},
   "outputs": [],
   "source": [
    "t5 = torch.tensor([[2,3,4],[5,1,2]])\n",
    "t6 = torch.tensor([[2,3], [1,2], [3,4]])"
   ]
  },
  {
   "cell_type": "code",
   "execution_count": 128,
   "id": "82c88d33",
   "metadata": {},
   "outputs": [
    {
     "name": "stdout",
     "output_type": "stream",
     "text": [
      "torch.Size([2, 3])\n",
      "torch.Size([3, 2])\n",
      "torch.Size([2, 2])\n",
      "torch.Size([2, 2])\n",
      "torch.Size([2, 2])\n"
     ]
    }
   ],
   "source": [
    "print(t5.shape)\n",
    "print(t6.shape)\n",
    "#We can use torch.matmul or torch.mm or @\n",
    "print(torch.matmul(t5,t6).shape)\n",
    "print(torch.mm(t5,t6).shape)\n",
    "print((t5@t6).shape)"
   ]
  },
  {
   "cell_type": "markdown",
   "id": "66eb564d",
   "metadata": {},
   "source": [
    "### Substraction"
   ]
  },
  {
   "cell_type": "code",
   "execution_count": 85,
   "id": "31149a67",
   "metadata": {},
   "outputs": [
    {
     "name": "stdout",
     "output_type": "stream",
     "text": [
      "tensor([-3, -2, -4])\n"
     ]
    }
   ],
   "source": [
    "print(t1-5)"
   ]
  },
  {
   "cell_type": "code",
   "execution_count": 86,
   "id": "8a5d5eca",
   "metadata": {},
   "outputs": [
    {
     "name": "stdout",
     "output_type": "stream",
     "text": [
      "tensor([-1,  0, -2])\n"
     ]
    }
   ],
   "source": [
    "print(t1-t2)"
   ]
  },
  {
   "cell_type": "markdown",
   "id": "b62d7cec",
   "metadata": {},
   "source": [
    "### Division"
   ]
  },
  {
   "cell_type": "code",
   "execution_count": 87,
   "id": "0467421b",
   "metadata": {},
   "outputs": [
    {
     "name": "stdout",
     "output_type": "stream",
     "text": [
      "tensor([1.0000, 1.5000, 0.5000])\n"
     ]
    }
   ],
   "source": [
    "print(t1/2)"
   ]
  },
  {
   "cell_type": "code",
   "execution_count": 88,
   "id": "85cd74cd",
   "metadata": {},
   "outputs": [
    {
     "name": "stdout",
     "output_type": "stream",
     "text": [
      "tensor([0.6667, 1.0000, 0.3333])\n"
     ]
    }
   ],
   "source": [
    "print(t1/t2)"
   ]
  },
  {
   "cell_type": "code",
   "execution_count": 95,
   "id": "9e836f00",
   "metadata": {},
   "outputs": [
    {
     "data": {
      "text/plain": [
       "4"
      ]
     },
     "execution_count": 95,
     "metadata": {},
     "output_type": "execute_result"
    }
   ],
   "source": [
    "(8+1)//2"
   ]
  },
  {
   "cell_type": "code",
   "execution_count": 96,
   "id": "01d09596",
   "metadata": {},
   "outputs": [
    {
     "data": {
      "text/plain": [
       "5"
      ]
     },
     "execution_count": 96,
     "metadata": {},
     "output_type": "execute_result"
    }
   ],
   "source": [
    "(8+2)//2"
   ]
  },
  {
   "cell_type": "code",
   "execution_count": 97,
   "id": "ccaf0381",
   "metadata": {},
   "outputs": [
    {
     "data": {
      "text/plain": [
       "5"
      ]
     },
     "execution_count": 97,
     "metadata": {},
     "output_type": "execute_result"
    }
   ],
   "source": [
    "(9+1)//2"
   ]
  },
  {
   "cell_type": "code",
   "execution_count": 98,
   "id": "b0e0e66e",
   "metadata": {},
   "outputs": [
    {
     "data": {
      "text/plain": [
       "5"
      ]
     },
     "execution_count": 98,
     "metadata": {},
     "output_type": "execute_result"
    }
   ],
   "source": [
    "(9+2)//2"
   ]
  },
  {
   "cell_type": "markdown",
   "id": "8dbaa063",
   "metadata": {},
   "source": [
    "### Reshaping tensors"
   ]
  },
  {
   "cell_type": "code",
   "execution_count": 151,
   "id": "afeabe67",
   "metadata": {},
   "outputs": [
    {
     "data": {
      "text/plain": [
       "tensor([[2, 3],\n",
       "        [1, 2],\n",
       "        [3, 4]])"
      ]
     },
     "execution_count": 151,
     "metadata": {},
     "output_type": "execute_result"
    }
   ],
   "source": [
    "t6"
   ]
  },
  {
   "cell_type": "code",
   "execution_count": 152,
   "id": "c714466f",
   "metadata": {},
   "outputs": [
    {
     "name": "stdout",
     "output_type": "stream",
     "text": [
      "tensor([[2, 3, 1],\n",
      "        [2, 3, 4]])\n",
      "torch.Size([3, 2])\n",
      "torch.Size([2, 3])\n"
     ]
    }
   ],
   "source": [
    "t6_reshaped = t6.reshape(2,3)\n",
    "print(t6_reshaped)\n",
    "print(t6.shape)\n",
    "print(t6_reshaped.shape)"
   ]
  },
  {
   "cell_type": "markdown",
   "id": "2aed18d0",
   "metadata": {},
   "source": [
    "### View\n",
    "Return a view of an input tensor of certain shape but keep the same memory as the original tensor"
   ]
  },
  {
   "cell_type": "code",
   "execution_count": 153,
   "id": "83c11fff",
   "metadata": {},
   "outputs": [
    {
     "name": "stdout",
     "output_type": "stream",
     "text": [
      "torch.Size([3, 2])\n",
      "torch.Size([2, 3])\n"
     ]
    }
   ],
   "source": [
    "t6_view = t6.view(2,3)\n",
    "print(t6.shape)\n",
    "print(t6_view.shape)"
   ]
  },
  {
   "cell_type": "code",
   "execution_count": 154,
   "id": "da87c700",
   "metadata": {},
   "outputs": [
    {
     "name": "stdout",
     "output_type": "stream",
     "text": [
      "tensor([[0, 3, 1],\n",
      "        [0, 3, 4]])\n",
      "tensor([[0, 3],\n",
      "        [1, 0],\n",
      "        [3, 4]])\n"
     ]
    }
   ],
   "source": [
    "t6_view[:,0] = 0\n",
    "print(t6_view)\n",
    "print(t6)"
   ]
  },
  {
   "cell_type": "markdown",
   "id": "bac631a4",
   "metadata": {},
   "source": [
    "Changing t6_view changes t6 because a view of a tensor shares the same memory as the original tensor"
   ]
  },
  {
   "cell_type": "markdown",
   "id": "c1776906",
   "metadata": {},
   "source": [
    "### Stacking tensors"
   ]
  },
  {
   "cell_type": "code",
   "execution_count": 157,
   "id": "0e961b70",
   "metadata": {},
   "outputs": [
    {
     "name": "stdout",
     "output_type": "stream",
     "text": [
      "tensor([[0, 3, 1],\n",
      "        [0, 3, 4]])\n",
      "tensor([[2., 3., 4.],\n",
      "        [5., 1., 2.]])\n"
     ]
    }
   ],
   "source": [
    "print(t6_reshaped)\n",
    "print(t5)"
   ]
  },
  {
   "cell_type": "code",
   "execution_count": 160,
   "id": "945aee09",
   "metadata": {},
   "outputs": [
    {
     "name": "stdout",
     "output_type": "stream",
     "text": [
      "tensor([[2., 3., 4.],\n",
      "        [5., 1., 2.],\n",
      "        [0., 3., 1.],\n",
      "        [0., 3., 4.]])\n"
     ]
    }
   ],
   "source": [
    "t56 = torch.vstack([t5,t6_reshaped])\n",
    "print(t56)"
   ]
  },
  {
   "cell_type": "code",
   "execution_count": 163,
   "id": "71cbb30f",
   "metadata": {},
   "outputs": [
    {
     "name": "stdout",
     "output_type": "stream",
     "text": [
      "tensor([[2., 3., 4., 0., 3., 1.],\n",
      "        [5., 1., 2., 0., 3., 4.]])\n"
     ]
    }
   ],
   "source": [
    "t56 = torch.hstack([t5,t6_reshaped])\n",
    "print(t56)"
   ]
  },
  {
   "cell_type": "code",
   "execution_count": 162,
   "id": "525ae3e2",
   "metadata": {},
   "outputs": [
    {
     "name": "stdout",
     "output_type": "stream",
     "text": [
      "tensor([[[2., 3., 4.],\n",
      "         [5., 1., 2.]],\n",
      "\n",
      "        [[0., 3., 1.],\n",
      "         [0., 3., 4.]]])\n"
     ]
    }
   ],
   "source": [
    "t56 = torch.stack([t5,t6_reshaped], dim=0)\n",
    "print(t56)"
   ]
  },
  {
   "cell_type": "code",
   "execution_count": 164,
   "id": "305e3764",
   "metadata": {},
   "outputs": [
    {
     "name": "stdout",
     "output_type": "stream",
     "text": [
      "tensor([[[2., 3., 4.],\n",
      "         [0., 3., 1.]],\n",
      "\n",
      "        [[5., 1., 2.],\n",
      "         [0., 3., 4.]]])\n"
     ]
    }
   ],
   "source": [
    "t56 = torch.stack([t5,t6_reshaped], dim=1)\n",
    "print(t56)"
   ]
  },
  {
   "cell_type": "code",
   "execution_count": 165,
   "id": "a65afcde",
   "metadata": {},
   "outputs": [
    {
     "name": "stdout",
     "output_type": "stream",
     "text": [
      "tensor([[[2., 0.],\n",
      "         [3., 3.],\n",
      "         [4., 1.]],\n",
      "\n",
      "        [[5., 0.],\n",
      "         [1., 3.],\n",
      "         [2., 4.]]])\n"
     ]
    }
   ],
   "source": [
    "t56 = torch.stack([t5,t6_reshaped], dim=2)\n",
    "print(t56)"
   ]
  },
  {
   "cell_type": "markdown",
   "id": "0ae5be1e",
   "metadata": {},
   "source": [
    "### Squeezing tensors\n",
    "Removes all single dimensions from a target tensor"
   ]
  },
  {
   "cell_type": "code",
   "execution_count": 174,
   "id": "933fdac5",
   "metadata": {},
   "outputs": [
    {
     "name": "stdout",
     "output_type": "stream",
     "text": [
      "tensor([[2., 3., 4.],\n",
      "        [5., 1., 2.]])\n"
     ]
    }
   ],
   "source": [
    "print(t5)"
   ]
  },
  {
   "cell_type": "code",
   "execution_count": 175,
   "id": "71a0190b",
   "metadata": {},
   "outputs": [
    {
     "data": {
      "text/plain": [
       "tensor([[2., 3., 4.],\n",
       "        [5., 1., 2.]])"
      ]
     },
     "execution_count": 175,
     "metadata": {},
     "output_type": "execute_result"
    }
   ],
   "source": [
    "t5.squeeze()"
   ]
  },
  {
   "cell_type": "markdown",
   "id": "5d902054",
   "metadata": {},
   "source": [
    "Here, the first dimension is 2 and second dimension is 3. When we use squeeze() on this tensor, it checks for any dimensions of size 1, but since there are none, it leaves the tensor unchanged."
   ]
  },
  {
   "cell_type": "code",
   "execution_count": 176,
   "id": "52daaff7",
   "metadata": {},
   "outputs": [
    {
     "name": "stdout",
     "output_type": "stream",
     "text": [
      "torch.Size([2, 1, 3])\n"
     ]
    }
   ],
   "source": [
    "t7 = torch.tensor([[[2., 3., 4.]],\n",
    "                       [[5., 1., 2.]]])\n",
    "print(t7.shape)"
   ]
  },
  {
   "cell_type": "code",
   "execution_count": 178,
   "id": "e4aacef1",
   "metadata": {},
   "outputs": [
    {
     "name": "stdout",
     "output_type": "stream",
     "text": [
      "tensor([[2., 3., 4.],\n",
      "        [5., 1., 2.]])\n",
      "torch.Size([2, 3])\n"
     ]
    }
   ],
   "source": [
    "t7_squeezed = t7.squeeze()\n",
    "print(t7_squeezed)\n",
    "print(t7_squeezed.shape)"
   ]
  },
  {
   "cell_type": "markdown",
   "id": "42c2f9bb",
   "metadata": {},
   "source": [
    "Here, it removed dimension of size 1"
   ]
  },
  {
   "cell_type": "markdown",
   "id": "4e6609d7",
   "metadata": {},
   "source": [
    "### Unsqueezing tensors\n",
    "Adds a single dimension to a target tensor at a specific dim"
   ]
  },
  {
   "cell_type": "code",
   "execution_count": 186,
   "id": "ec532811",
   "metadata": {},
   "outputs": [
    {
     "name": "stdout",
     "output_type": "stream",
     "text": [
      "torch.Size([2, 1, 3])\n"
     ]
    }
   ],
   "source": [
    "t7\n",
    "print(t7.shape)"
   ]
  },
  {
   "cell_type": "code",
   "execution_count": 187,
   "id": "6b6548dd",
   "metadata": {},
   "outputs": [
    {
     "name": "stdout",
     "output_type": "stream",
     "text": [
      "tensor([[[[2., 3., 4.]],\n",
      "\n",
      "         [[5., 1., 2.]]]])\n",
      "torch.Size([1, 2, 1, 3])\n"
     ]
    }
   ],
   "source": [
    "t7_unsqueeze = t7.unsqueeze(dim=0)\n",
    "print(t7_unsqueeze)\n",
    "print(t7_unsqueeze.shape)"
   ]
  },
  {
   "cell_type": "code",
   "execution_count": 188,
   "id": "60971424",
   "metadata": {},
   "outputs": [
    {
     "name": "stdout",
     "output_type": "stream",
     "text": [
      "tensor([[[[2., 3., 4.]]],\n",
      "\n",
      "\n",
      "        [[[5., 1., 2.]]]])\n",
      "torch.Size([2, 1, 1, 3])\n"
     ]
    }
   ],
   "source": [
    "t7_unsqueeze = t7.unsqueeze(dim=1)\n",
    "print(t7_unsqueeze)\n",
    "print(t7_unsqueeze.shape)"
   ]
  },
  {
   "cell_type": "markdown",
   "id": "1eeda51d",
   "metadata": {},
   "source": [
    "### Permute\n",
    "Rearranges the dimensions of a target tensor in a specified order"
   ]
  },
  {
   "cell_type": "code",
   "execution_count": 190,
   "id": "153cbc5c",
   "metadata": {},
   "outputs": [],
   "source": [
    "t8 = torch.rand(size=(224,224,3)) #(height, width and color channels of pictures)"
   ]
  },
  {
   "cell_type": "code",
   "execution_count": 191,
   "id": "26a20767",
   "metadata": {},
   "outputs": [
    {
     "name": "stdout",
     "output_type": "stream",
     "text": [
      "torch.Size([224, 224, 3])\n",
      "torch.Size([3, 224, 224])\n"
     ]
    }
   ],
   "source": [
    "t8_permuted = t8.permute(2,0,1)\n",
    "print(t8.shape)\n",
    "print(t8_permuted.shape)"
   ]
  },
  {
   "cell_type": "code",
   "execution_count": 193,
   "id": "c6167e43",
   "metadata": {},
   "outputs": [
    {
     "name": "stdout",
     "output_type": "stream",
     "text": [
      "tensor([[[2., 3., 4.]],\n",
      "\n",
      "        [[5., 1., 2.]]])\n",
      "torch.Size([2, 1, 3])\n"
     ]
    }
   ],
   "source": [
    "print(t7)\n",
    "print(t7.shape)"
   ]
  },
  {
   "cell_type": "code",
   "execution_count": 195,
   "id": "446dfdbb",
   "metadata": {},
   "outputs": [
    {
     "name": "stdout",
     "output_type": "stream",
     "text": [
      "torch.Size([3, 1, 2])\n",
      "tensor([[[2., 5.]],\n",
      "\n",
      "        [[3., 1.]],\n",
      "\n",
      "        [[4., 2.]]])\n"
     ]
    }
   ],
   "source": [
    "t7_permuted = t7.permute(2,1,0)\n",
    "print(t7_permuted.shape)\n",
    "print(t7_permuted)"
   ]
  },
  {
   "cell_type": "markdown",
   "id": "749dad49",
   "metadata": {},
   "source": [
    "# Tensor Aggregation"
   ]
  },
  {
   "cell_type": "code",
   "execution_count": 130,
   "id": "726e5209",
   "metadata": {},
   "outputs": [
    {
     "name": "stdout",
     "output_type": "stream",
     "text": [
      "tensor([[2, 3, 4],\n",
      "        [5, 1, 2]])\n"
     ]
    }
   ],
   "source": [
    "print(t5)"
   ]
  },
  {
   "cell_type": "markdown",
   "id": "e3bc3f4d",
   "metadata": {},
   "source": [
    "### Minimum"
   ]
  },
  {
   "cell_type": "code",
   "execution_count": 132,
   "id": "cb2416f8",
   "metadata": {},
   "outputs": [
    {
     "name": "stdout",
     "output_type": "stream",
     "text": [
      "tensor(1)\n",
      "tensor(1)\n"
     ]
    }
   ],
   "source": [
    "print(torch.min(t5))\n",
    "print(t5.min())"
   ]
  },
  {
   "cell_type": "markdown",
   "id": "86776a40",
   "metadata": {},
   "source": [
    "### Maximum"
   ]
  },
  {
   "cell_type": "code",
   "execution_count": 133,
   "id": "6c7e23eb",
   "metadata": {},
   "outputs": [
    {
     "name": "stdout",
     "output_type": "stream",
     "text": [
      "tensor(5)\n",
      "tensor(5)\n"
     ]
    }
   ],
   "source": [
    "print(torch.max(t5))\n",
    "print(t5.max())"
   ]
  },
  {
   "cell_type": "markdown",
   "id": "2ea35021",
   "metadata": {},
   "source": [
    "### Mean"
   ]
  },
  {
   "cell_type": "code",
   "execution_count": 134,
   "id": "a9c39a3e",
   "metadata": {},
   "outputs": [
    {
     "ename": "RuntimeError",
     "evalue": "mean(): could not infer output dtype. Input dtype must be either a floating point or complex dtype. Got: Long",
     "output_type": "error",
     "traceback": [
      "\u001b[0;31m---------------------------------------------------------------------------\u001b[0m",
      "\u001b[0;31mRuntimeError\u001b[0m                              Traceback (most recent call last)",
      "Cell \u001b[0;32mIn[134], line 1\u001b[0m\n\u001b[0;32m----> 1\u001b[0m \u001b[38;5;28mprint\u001b[39m(\u001b[43mtorch\u001b[49m\u001b[38;5;241;43m.\u001b[39;49m\u001b[43mmean\u001b[49m\u001b[43m(\u001b[49m\u001b[43mt5\u001b[49m\u001b[43m)\u001b[49m)\n",
      "\u001b[0;31mRuntimeError\u001b[0m: mean(): could not infer output dtype. Input dtype must be either a floating point or complex dtype. Got: Long"
     ]
    }
   ],
   "source": [
    "print(torch.mean(t5))"
   ]
  },
  {
   "cell_type": "markdown",
   "id": "f1877e05",
   "metadata": {},
   "source": [
    "torch.mean() function requires a tensor of float32 datatype"
   ]
  },
  {
   "cell_type": "code",
   "execution_count": 135,
   "id": "f5e1162e",
   "metadata": {},
   "outputs": [
    {
     "name": "stdout",
     "output_type": "stream",
     "text": [
      "torch.int64\n"
     ]
    }
   ],
   "source": [
    "print(t5.dtype)"
   ]
  },
  {
   "cell_type": "code",
   "execution_count": 137,
   "id": "2465b06b",
   "metadata": {},
   "outputs": [
    {
     "name": "stdout",
     "output_type": "stream",
     "text": [
      "torch.float32\n",
      "tensor(2.8333)\n"
     ]
    }
   ],
   "source": [
    "t5 = t5.type(torch.float32)\n",
    "print(t5.dtype)\n",
    "print(torch.mean(t5))"
   ]
  },
  {
   "cell_type": "markdown",
   "id": "e2225e82",
   "metadata": {},
   "source": [
    "### Sum"
   ]
  },
  {
   "cell_type": "code",
   "execution_count": 138,
   "id": "032bc41a",
   "metadata": {},
   "outputs": [
    {
     "name": "stdout",
     "output_type": "stream",
     "text": [
      "tensor(17.)\n",
      "tensor(17.)\n"
     ]
    }
   ],
   "source": [
    "print(torch.sum(t5))\n",
    "print(t5.sum())"
   ]
  },
  {
   "cell_type": "markdown",
   "id": "a42c86de",
   "metadata": {},
   "source": [
    "### Positional min and max \n",
    "Find the position in tensor that has minimum or maximum value"
   ]
  },
  {
   "cell_type": "code",
   "execution_count": 143,
   "id": "a8d5e316",
   "metadata": {},
   "outputs": [
    {
     "name": "stdout",
     "output_type": "stream",
     "text": [
      "tensor([[2., 3., 4.],\n",
      "        [5., 1., 2.]])\n"
     ]
    }
   ],
   "source": [
    "print(t5)"
   ]
  },
  {
   "cell_type": "code",
   "execution_count": 144,
   "id": "55aa32eb",
   "metadata": {},
   "outputs": [
    {
     "data": {
      "text/plain": [
       "tensor(4)"
      ]
     },
     "execution_count": 144,
     "metadata": {},
     "output_type": "execute_result"
    }
   ],
   "source": [
    "t5.argmin()"
   ]
  },
  {
   "cell_type": "code",
   "execution_count": 145,
   "id": "42b71c68",
   "metadata": {},
   "outputs": [
    {
     "data": {
      "text/plain": [
       "tensor(3)"
      ]
     },
     "execution_count": 145,
     "metadata": {},
     "output_type": "execute_result"
    }
   ],
   "source": [
    "t5.argmax()"
   ]
  },
  {
   "cell_type": "markdown",
   "id": "af0bdf79",
   "metadata": {},
   "source": [
    "# Tensor Indexing"
   ]
  },
  {
   "cell_type": "code",
   "execution_count": 212,
   "id": "c77b4fbe",
   "metadata": {},
   "outputs": [
    {
     "data": {
      "text/plain": [
       "tensor([[[2., 3., 4.]],\n",
       "\n",
       "        [[5., 1., 2.]]])"
      ]
     },
     "execution_count": 212,
     "metadata": {},
     "output_type": "execute_result"
    }
   ],
   "source": [
    "t7"
   ]
  },
  {
   "cell_type": "code",
   "execution_count": 207,
   "id": "8c406ee3",
   "metadata": {},
   "outputs": [
    {
     "name": "stdout",
     "output_type": "stream",
     "text": [
      "tensor([[2., 3., 4.]])\n",
      "tensor([2., 3., 4.])\n",
      "tensor(2.)\n",
      "tensor([[5., 1., 2.]])\n",
      "tensor([5., 1., 2.])\n",
      "tensor(5.)\n"
     ]
    }
   ],
   "source": [
    "print(t7[0])\n",
    "print(t7[0][0])\n",
    "print(t7[0][0][0])\n",
    "print(t7[1])\n",
    "print(t7[1][0])\n",
    "print(t7[1][0][0])"
   ]
  },
  {
   "cell_type": "code",
   "execution_count": 217,
   "id": "d66b6116",
   "metadata": {},
   "outputs": [
    {
     "name": "stdout",
     "output_type": "stream",
     "text": [
      "tensor(3.)\n",
      "tensor([[5., 1., 2.]])\n",
      "tensor([5.])\n"
     ]
    }
   ],
   "source": [
    "print(t7[0,0,1])\n",
    "print(t7[1])\n",
    "print(t7[1,:,0])"
   ]
  },
  {
   "cell_type": "markdown",
   "id": "b5992741",
   "metadata": {},
   "source": [
    "# Tensor and Numpy"
   ]
  },
  {
   "cell_type": "code",
   "execution_count": 227,
   "id": "7464a618",
   "metadata": {},
   "outputs": [],
   "source": [
    "import numpy as np"
   ]
  },
  {
   "cell_type": "code",
   "execution_count": 228,
   "id": "59f824d9",
   "metadata": {},
   "outputs": [
    {
     "name": "stdout",
     "output_type": "stream",
     "text": [
      "[1. 2. 3. 4. 5. 6. 7. 8. 9.]\n"
     ]
    }
   ],
   "source": [
    "arr = np.arange(1.0, 10.0)\n",
    "print(arr)"
   ]
  },
  {
   "cell_type": "markdown",
   "id": "8246014d",
   "metadata": {},
   "source": [
    "### Change to tensor\n"
   ]
  },
  {
   "cell_type": "code",
   "execution_count": 229,
   "id": "6385e698",
   "metadata": {},
   "outputs": [
    {
     "name": "stdout",
     "output_type": "stream",
     "text": [
      "tensor([1., 2., 3., 4., 5., 6., 7., 8., 9.], dtype=torch.float64)\n"
     ]
    }
   ],
   "source": [
    "tr = torch.from_numpy(arr)\n",
    "print(tr)"
   ]
  },
  {
   "cell_type": "markdown",
   "id": "9985fdc9",
   "metadata": {},
   "source": [
    "When converting numpy array to pytorch tensor, it retains numpy datatype"
   ]
  },
  {
   "cell_type": "code",
   "execution_count": 233,
   "id": "a091b8cb",
   "metadata": {},
   "outputs": [
    {
     "name": "stdout",
     "output_type": "stream",
     "text": [
      "[1 2 3 4 5 6 7 8 9]\n",
      "int64\n",
      "tensor([1, 2, 3, 4, 5, 6, 7, 8, 9])\n",
      "torch.int64\n"
     ]
    }
   ],
   "source": [
    "arr = np.arange(1,10)\n",
    "print(arr)\n",
    "print(arr.dtype)\n",
    "tr = torch.from_numpy(arr)\n",
    "print(tr)\n",
    "print(tr.dtype)"
   ]
  },
  {
   "cell_type": "markdown",
   "id": "8f0a7fac",
   "metadata": {},
   "source": [
    "### Chage to numpy"
   ]
  },
  {
   "cell_type": "code",
   "execution_count": 237,
   "id": "381227bb",
   "metadata": {},
   "outputs": [
    {
     "name": "stdout",
     "output_type": "stream",
     "text": [
      "tensor([1, 2, 3, 4, 5])\n",
      "[1 2 3 4 5]\n",
      "int64\n",
      "<class 'numpy.ndarray'>\n"
     ]
    }
   ],
   "source": [
    "tr1 = torch.tensor([1,2,3,4,5])\n",
    "print(tr1)\n",
    "arr1 = tr1.numpy()\n",
    "print(arr1)\n",
    "print(arr1.dtype)\n",
    "print(type(arr1))"
   ]
  },
  {
   "cell_type": "code",
   "execution_count": 262,
   "id": "f314048a",
   "metadata": {},
   "outputs": [
    {
     "name": "stdout",
     "output_type": "stream",
     "text": [
      "tensor([1., 1., 1., 1.]) <class 'torch.Tensor'>\n",
      "[1. 1. 1. 1.] <class 'numpy.ndarray'>\n",
      "tensor([2., 2., 2., 2.])\n",
      "[2. 2. 2. 2.]\n"
     ]
    }
   ],
   "source": [
    "#If we are using CPU, both objects will share the same memory location.\n",
    "x = torch.ones(4)\n",
    "print(x, type(x))\n",
    "y = x.numpy()\n",
    "print(y, type(y))\n",
    "x.add_(1)\n",
    "print(x)\n",
    "print(y)"
   ]
  },
  {
   "cell_type": "markdown",
   "id": "7f296ab5",
   "metadata": {},
   "source": [
    "# Random number generation"
   ]
  },
  {
   "cell_type": "code",
   "execution_count": 255,
   "id": "3c16d086",
   "metadata": {},
   "outputs": [
    {
     "name": "stdout",
     "output_type": "stream",
     "text": [
      "tensor([[0.2566, 0.7936, 0.9408],\n",
      "        [0.1332, 0.9346, 0.5936]])\n"
     ]
    }
   ],
   "source": [
    "tr_rand = torch.rand(2,3)\n",
    "print(tr_rand)"
   ]
  },
  {
   "cell_type": "code",
   "execution_count": 256,
   "id": "84f36809",
   "metadata": {},
   "outputs": [
    {
     "name": "stdout",
     "output_type": "stream",
     "text": [
      "tensor([[0.8823, 0.9150, 0.3829],\n",
      "        [0.9593, 0.3904, 0.6009]])\n"
     ]
    }
   ],
   "source": [
    "#Random but reproducible tensors using seed\n",
    "seed = 42\n",
    "torch.manual_seed(seed)\n",
    "tr_rand = torch.rand(2,3)\n",
    "print(tr_rand)"
   ]
  },
  {
   "cell_type": "markdown",
   "id": "bde5f488",
   "metadata": {},
   "source": [
    "# GPU access with Pytorch"
   ]
  },
  {
   "cell_type": "code",
   "execution_count": 266,
   "id": "d2ff9f57",
   "metadata": {},
   "outputs": [
    {
     "name": "stdout",
     "output_type": "stream",
     "text": [
      "MPS is available\n"
     ]
    }
   ],
   "source": [
    "#MPS for Mac M1\n",
    "if torch.backends.mps.is_available():\n",
    "    print(\"MPS is available\")\n",
    "else:\n",
    "    print(\"MPS is not available, using CPU\")"
   ]
  },
  {
   "cell_type": "code",
   "execution_count": 269,
   "id": "c2e76a01",
   "metadata": {},
   "outputs": [
    {
     "name": "stdout",
     "output_type": "stream",
     "text": [
      "mps\n"
     ]
    }
   ],
   "source": [
    "#Setup device agnostic code i.e. use GPU if it is available otherwise use CPU\n",
    "device = torch.device('mps') if torch.backends.mps.is_available() else 'cpu'\n",
    "print(device)"
   ]
  },
  {
   "cell_type": "code",
   "execution_count": 272,
   "id": "f8f302f9",
   "metadata": {},
   "outputs": [
    {
     "name": "stdout",
     "output_type": "stream",
     "text": [
      "0\n"
     ]
    }
   ],
   "source": [
    "#Count number of devices in gpu\n",
    "print(torch.cuda.device_count())  # This works for CUDA, not MPS\n",
    "#For MPS, there is only one GPU available"
   ]
  },
  {
   "cell_type": "code",
   "execution_count": 275,
   "id": "f7b6aed5",
   "metadata": {},
   "outputs": [
    {
     "name": "stdout",
     "output_type": "stream",
     "text": [
      "tensor([1, 2, 3]) cpu\n",
      "tensor([1., 2., 3.], device='mps:0') mps:0\n"
     ]
    }
   ],
   "source": [
    "#Putting tensors and models on the GPU\n",
    "t9 = torch.tensor([1,2,3])\n",
    "print(t9, t9.device)\n",
    "t9 = tensor.to(device)\n",
    "print(t9, t9.device)"
   ]
  },
  {
   "cell_type": "code",
   "execution_count": null,
   "id": "29939e49",
   "metadata": {},
   "outputs": [],
   "source": []
  }
 ],
 "metadata": {
  "kernelspec": {
   "display_name": "Python 3 (ipykernel)",
   "language": "python",
   "name": "python3"
  },
  "language_info": {
   "codemirror_mode": {
    "name": "ipython",
    "version": 3
   },
   "file_extension": ".py",
   "mimetype": "text/x-python",
   "name": "python",
   "nbconvert_exporter": "python",
   "pygments_lexer": "ipython3",
   "version": "3.9.15"
  }
 },
 "nbformat": 4,
 "nbformat_minor": 5
}
